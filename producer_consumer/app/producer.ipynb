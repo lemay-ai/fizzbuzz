{
 "cells": [
  {
   "cell_type": "code",
   "execution_count": null,
   "metadata": {},
   "outputs": [],
   "source": [
    "import datetime\n",
    "import json\n",
    "import schedule\n",
    "import requests as reqs\n",
    "\n",
    "def myconverter(o):\n",
    "    if isinstance(o, datetime.datetime):\n",
    "        return o.__str__()\n",
    "    \n",
    "def num_calls():\n",
    "    call = True\n",
    "    i = 0\n",
    "    while call:\n",
    "        i += 1\n",
    "        yield i\n",
    "        \n",
    "msg_num = num_calls()\n",
    "##The producer of the requests\n",
    "def producer(msg_num):\n",
    "    url = \"http://0.0.0.0:5000//consumer\"\n",
    "    headers = {'content-type': 'application/json'}\n",
    "    for i in range(0, 10):\n",
    "        start = datetime.datetime.now()\n",
    "        data = { \"msg_num\": next(msg_num), \"start\" : start}\n",
    "        result = reqs.post(url, data=json.dumps(data, default = myconverter), headers=headers)\n",
    "        print(result.json()[\"message\"])\n",
    "    \n",
    "\n",
    "schedule.every(1).seconds.do(producer, msg_num)\n",
    "while True:\n",
    "   schedule.run_pending()\n",
    "\n"
   ]
  },
  {
   "cell_type": "code",
   "execution_count": null,
   "metadata": {},
   "outputs": [],
   "source": []
  }
 ],
 "metadata": {
  "kernelspec": {
   "display_name": "Python 3",
   "language": "python",
   "name": "python3"
  },
  "language_info": {
   "codemirror_mode": {
    "name": "ipython",
    "version": 3
   },
   "file_extension": ".py",
   "mimetype": "text/x-python",
   "name": "python",
   "nbconvert_exporter": "python",
   "pygments_lexer": "ipython3",
   "version": "3.8.6"
  }
 },
 "nbformat": 4,
 "nbformat_minor": 4
}
