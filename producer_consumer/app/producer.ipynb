{
 "cells": [
  {
   "cell_type": "code",
   "execution_count": 1,
   "metadata": {},
   "outputs": [
    {
     "name": "stdout",
     "output_type": "stream",
     "text": [
      "The request was completed, job id: 8d4ab15c-65d7-471b-a5a9-c933d0a17237\n",
      "The request was completed, job id: dec269a6-fdbe-4319-aa24-aef4780a3d73\n",
      "The request was completed, job id: 2c7129a1-30c9-4331-bd64-c9ff0357a810\n",
      "The request was completed, job id: 99992f5b-8391-4ab6-b99e-de0d11691cf2\n",
      "The request was completed, job id: 29450e93-05fa-476e-9d41-eb677ff7dd28\n",
      "The request was completed, job id: 2a3f4c3f-1f32-442b-a205-79bc9134542c\n",
      "The request was completed, job id: 67a09862-2961-4ae5-9851-fd1ada879c07\n",
      "The request was completed, job id: a4ce58a3-a7f5-445b-a21d-c1fe59ecc11e\n",
      "The request was completed, job id: cac43e57-06ce-42ce-a0b8-c585ff0866da\n",
      "The request was completed, job id: e8aaa66e-77aa-4bf0-a86a-4f8e0d02ae10\n",
      "The request was completed, job id: 219daabb-ad06-4398-ad98-f07f8449458a\n",
      "The request was completed, job id: 2790860d-a04c-4d49-81ba-dc87196afb69\n",
      "The request was completed, job id: c3aa9359-1e83-481d-b163-d68d9200af4f\n",
      "The request was completed, job id: 2ecc3f54-a962-4baa-b435-786e8c8de4ab\n",
      "The request was completed, job id: f160137c-6f4f-41ba-b813-a1fd8eb7b511\n",
      "The request was completed, job id: e1559843-4c35-4498-9705-2e9368bbe655\n",
      "The request was completed, job id: bf256e50-2f74-4f84-ba83-ff8fe1e0a95f\n",
      "The request was completed, job id: c7504f2f-bdce-472b-8e15-d4ffc4ff25e5\n",
      "The request was completed, job id: 97e75e90-31bb-410e-8e13-e17220082633\n",
      "The request was completed, job id: ed647fe2-6b00-4e6a-b59f-0ce63c9e0f9c\n"
     ]
    },
    {
     "ename": "KeyboardInterrupt",
     "evalue": "",
     "output_type": "error",
     "traceback": [
      "\u001b[0;31m----------------------------------------\u001b[0m",
      "\u001b[0;31mKeyboardInterrupt\u001b[0mTraceback (most recent call last)",
      "\u001b[0;32m<ipython-input-1-01256dc6f127>\u001b[0m in \u001b[0;36m<module>\u001b[0;34m\u001b[0m\n\u001b[1;32m     29\u001b[0m \u001b[0mschedule\u001b[0m\u001b[0;34m.\u001b[0m\u001b[0mevery\u001b[0m\u001b[0;34m(\u001b[0m\u001b[0;36m1\u001b[0m\u001b[0;34m)\u001b[0m\u001b[0;34m.\u001b[0m\u001b[0mseconds\u001b[0m\u001b[0;34m.\u001b[0m\u001b[0mdo\u001b[0m\u001b[0;34m(\u001b[0m\u001b[0mproducer\u001b[0m\u001b[0;34m,\u001b[0m \u001b[0mmsg_num\u001b[0m\u001b[0;34m)\u001b[0m\u001b[0;34m\u001b[0m\u001b[0;34m\u001b[0m\u001b[0m\n\u001b[1;32m     30\u001b[0m \u001b[0;32mwhile\u001b[0m \u001b[0;32mTrue\u001b[0m\u001b[0;34m:\u001b[0m\u001b[0;34m\u001b[0m\u001b[0;34m\u001b[0m\u001b[0m\n\u001b[0;32m---> 31\u001b[0;31m    \u001b[0mschedule\u001b[0m\u001b[0;34m.\u001b[0m\u001b[0mrun_pending\u001b[0m\u001b[0;34m(\u001b[0m\u001b[0;34m)\u001b[0m\u001b[0;34m\u001b[0m\u001b[0;34m\u001b[0m\u001b[0m\n\u001b[0m\u001b[1;32m     32\u001b[0m \u001b[0;34m\u001b[0m\u001b[0m\n",
      "\u001b[0;32m/usr/local/lib/python3.8/site-packages/schedule/__init__.py\u001b[0m in \u001b[0;36mrun_pending\u001b[0;34m()\u001b[0m\n\u001b[1;32m    561\u001b[0m     \u001b[0;34m:\u001b[0m\u001b[0mdata\u001b[0m\u001b[0;34m:\u001b[0m\u001b[0;31m`\u001b[0m\u001b[0mdefault\u001b[0m \u001b[0mscheduler\u001b[0m \u001b[0minstance\u001b[0m \u001b[0;34m<\u001b[0m\u001b[0mdefault_scheduler\u001b[0m\u001b[0;34m>\u001b[0m\u001b[0;31m`\u001b[0m\u001b[0;34m.\u001b[0m\u001b[0;34m\u001b[0m\u001b[0;34m\u001b[0m\u001b[0m\n\u001b[1;32m    562\u001b[0m     \"\"\"\n\u001b[0;32m--> 563\u001b[0;31m     \u001b[0mdefault_scheduler\u001b[0m\u001b[0;34m.\u001b[0m\u001b[0mrun_pending\u001b[0m\u001b[0;34m(\u001b[0m\u001b[0;34m)\u001b[0m\u001b[0;34m\u001b[0m\u001b[0;34m\u001b[0m\u001b[0m\n\u001b[0m\u001b[1;32m    564\u001b[0m \u001b[0;34m\u001b[0m\u001b[0m\n\u001b[1;32m    565\u001b[0m \u001b[0;34m\u001b[0m\u001b[0m\n",
      "\u001b[0;32m/usr/local/lib/python3.8/site-packages/schedule/__init__.py\u001b[0m in \u001b[0;36mrun_pending\u001b[0;34m(self)\u001b[0m\n\u001b[1;32m     91\u001b[0m         \"\"\"\n\u001b[1;32m     92\u001b[0m         \u001b[0mrunnable_jobs\u001b[0m \u001b[0;34m=\u001b[0m \u001b[0;34m(\u001b[0m\u001b[0mjob\u001b[0m \u001b[0;32mfor\u001b[0m \u001b[0mjob\u001b[0m \u001b[0;32min\u001b[0m \u001b[0mself\u001b[0m\u001b[0;34m.\u001b[0m\u001b[0mjobs\u001b[0m \u001b[0;32mif\u001b[0m \u001b[0mjob\u001b[0m\u001b[0;34m.\u001b[0m\u001b[0mshould_run\u001b[0m\u001b[0;34m)\u001b[0m\u001b[0;34m\u001b[0m\u001b[0;34m\u001b[0m\u001b[0m\n\u001b[0;32m---> 93\u001b[0;31m         \u001b[0;32mfor\u001b[0m \u001b[0mjob\u001b[0m \u001b[0;32min\u001b[0m \u001b[0msorted\u001b[0m\u001b[0;34m(\u001b[0m\u001b[0mrunnable_jobs\u001b[0m\u001b[0;34m)\u001b[0m\u001b[0;34m:\u001b[0m\u001b[0;34m\u001b[0m\u001b[0;34m\u001b[0m\u001b[0m\n\u001b[0m\u001b[1;32m     94\u001b[0m             \u001b[0mself\u001b[0m\u001b[0;34m.\u001b[0m\u001b[0m_run_job\u001b[0m\u001b[0;34m(\u001b[0m\u001b[0mjob\u001b[0m\u001b[0;34m)\u001b[0m\u001b[0;34m\u001b[0m\u001b[0;34m\u001b[0m\u001b[0m\n\u001b[1;32m     95\u001b[0m \u001b[0;34m\u001b[0m\u001b[0m\n",
      "\u001b[0;31mKeyboardInterrupt\u001b[0m: "
     ]
    }
   ],
   "source": [
    "import datetime\n",
    "import json\n",
    "import schedule\n",
    "import requests as reqs\n",
    "\n",
    "def myconverter(o):\n",
    "    if isinstance(o, datetime.datetime):\n",
    "        return o.__str__()\n",
    "    \n",
    "def num_calls():\n",
    "    call = True\n",
    "    i = 0\n",
    "    while call:\n",
    "        i += 1\n",
    "        yield i\n",
    "        \n",
    "msg_num = num_calls()\n",
    "##The producer of the requests\n",
    "def producer(msg_num):\n",
    "    url = \"http://0.0.0.0:5000//consumer\"\n",
    "    headers = {'content-type': 'application/json'}\n",
    "    for i in range(0, 10):\n",
    "        start = datetime.datetime.now()\n",
    "        data = { \"msg_num\": next(msg_num), \"start\" : start}\n",
    "        result = reqs.post(url, data=json.dumps(data, default = myconverter), headers=headers)\n",
    "        print(result.json()[\"message\"])\n",
    "    \n",
    "\n",
    "schedule.every(1).seconds.do(producer, msg_num)\n",
    "while True:\n",
    "   schedule.run_pending()\n",
    "\n"
   ]
  },
  {
   "cell_type": "code",
   "execution_count": null,
   "metadata": {},
   "outputs": [],
   "source": []
  }
 ],
 "metadata": {
  "kernelspec": {
   "display_name": "Python 3",
   "language": "python",
   "name": "python3"
  },
  "language_info": {
   "codemirror_mode": {
    "name": "ipython",
    "version": 3
   },
   "file_extension": ".py",
   "mimetype": "text/x-python",
   "name": "python",
   "nbconvert_exporter": "python",
   "pygments_lexer": "ipython3",
   "version": "3.8.6"
  }
 },
 "nbformat": 4,
 "nbformat_minor": 4
}
