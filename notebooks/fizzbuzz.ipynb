{
 "cells": [
  {
   "cell_type": "code",
   "execution_count": 1,
   "metadata": {},
   "outputs": [],
   "source": [
    "#!/usr/bin/python\n",
    "import psycopg2\n",
    "from psycopg2.extensions import ISOLATION_LEVEL_AUTOCOMMIT\n",
    "\n",
    "class DB():\n",
    "    def __init__(self, tablename, hostname = 'localhost', port = '5432', username = 'postgres',\n",
    "                password = 'postgres'):\n",
    "        self.hostname = hostname\n",
    "        self.port = port\n",
    "        self.username = username\n",
    "        self.password = password\n",
    "        self.tablename = tablename\n",
    "        self.connection = self._get_connection()\n",
    "        self._make_table()\n",
    "\n",
    "    def run_psql(self, cmd):\n",
    "        cur = self.connection.cursor()\n",
    "        cur.execute(cmd)\n",
    "        self.connection.commit()\n",
    "        try:\n",
    "            return cur.fetchall()\n",
    "        except:\n",
    "            pass\n",
    "    \n",
    "    def _create_tables(self, tablename) :\n",
    "        \"\"\" create tables in the PostgreSQL database\"\"\"\n",
    "        cur = self.connection.cursor()\n",
    "        cur.execute(f'CREATE TABLE {tablename} (arrival_time timestamp PRIMARY KEY, transmit_time timestamp, count int NOT NULL)')\n",
    "        self.connection.commit()\n",
    "\n",
    "    def init_database(self, name) :\n",
    "        cur = self.connection.cursor()\n",
    "        cur.execute( f\"SELECT datname FROM pg_catalog.pg_database WHERE datname = '{name}'\" )\n",
    "        dbs = []\n",
    "        for firstname in cur.fetchall() :\n",
    "            for name in firstname :\n",
    "                print( name )\n",
    "                dbs.append(name)\n",
    "        if not name in dbs :\n",
    "            print(f'database {name} not found')\n",
    "            self.connection.set_isolation_level(ISOLATION_LEVEL_AUTOCOMMIT)\n",
    "            cur = self.connection.cursor()\n",
    "            cur.execute( f'CREATE DATABASE {name};' )\n",
    "            cur.execute( f\"SELECT datname FROM pg_catalog.pg_database WHERE datname = '{name}'\" )\n",
    "            print(cur.fetchall())\n",
    "\n",
    "    def _get_tables(self):\n",
    "        self.connection = psycopg2.connect( host=self.hostname, user=self.username, password=self.password )\n",
    "        cmd =   f\"\"\"\n",
    "                 SELECT table_name\n",
    "                 FROM information_schema.tables\n",
    "                 WHERE table_schema = 'public'\n",
    "                 ORDER BY table_name;\n",
    "                 \"\"\"\n",
    "\n",
    "        cur = self.connection.cursor()\n",
    "        cur.execute( cmd )\n",
    "        tables = []\n",
    "        for row in cur.fetchall():\n",
    "            tables.append(row[0])\n",
    "        return tables\n",
    "\n",
    "    def _get_connection(self):\n",
    "        connection = psycopg2.connect( host=self.hostname, user=self.username, password=self.password, port=self.port)\n",
    "        return connection\n",
    "\n",
    "    def _make_table(self):   \n",
    "        if not self.tablename in self._get_tables():\n",
    "            print(f'table {self.tablename} not found in db creating..' )\n",
    "            self._create_tables(self.tablename)\n",
    "        else:\n",
    "            print(f'table {self.tablename} found in db' )"
   ]
  },
  {
   "cell_type": "code",
   "execution_count": 2,
   "metadata": {},
   "outputs": [
    {
     "name": "stdout",
     "output_type": "stream",
     "text": [
      "table consumed found in db\n"
     ]
    }
   ],
   "source": [
    "db = DB('consumed', hostname = 'db', port='5432')"
   ]
  },
  {
   "cell_type": "code",
   "execution_count": 3,
   "metadata": {},
   "outputs": [
    {
     "name": "stdout",
     "output_type": "stream",
     "text": [
      "[(datetime.datetime(2020, 11, 30, 6, 35, 5, 903983), datetime.datetime(2020, 11, 30, 6, 35, 5, 883514), 572), (datetime.datetime(2020, 11, 30, 6, 35, 5, 773995), datetime.datetime(2020, 11, 30, 6, 35, 5, 765752), 571), (datetime.datetime(2020, 11, 30, 6, 35, 5, 652336), datetime.datetime(2020, 11, 30, 6, 35, 5, 636557), 570), (datetime.datetime(2020, 11, 30, 6, 35, 5, 520347), datetime.datetime(2020, 11, 30, 6, 35, 5, 515785), 569), (datetime.datetime(2020, 11, 30, 6, 35, 5, 367166), datetime.datetime(2020, 11, 30, 6, 35, 5, 342748), 568)]\n"
     ]
    }
   ],
   "source": [
    "cmd =   \"\"\"\n",
    "        SELECT * \n",
    "        FROM consumed \n",
    "        ORDER BY arrival_time DESC \n",
    "        LIMIT 5;\n",
    "        \"\"\"\n",
    "print(db.run_psql( cmd ))"
   ]
  },
  {
   "cell_type": "code",
   "execution_count": null,
   "metadata": {},
   "outputs": [],
   "source": []
  }
 ],
 "metadata": {
  "kernelspec": {
   "display_name": "Python 3",
   "language": "python",
   "name": "python3"
  },
  "language_info": {
   "codemirror_mode": {
    "name": "ipython",
    "version": 3
   },
   "file_extension": ".py",
   "mimetype": "text/x-python",
   "name": "python",
   "nbconvert_exporter": "python",
   "pygments_lexer": "ipython3",
   "version": "3.8.6"
  }
 },
 "nbformat": 4,
 "nbformat_minor": 4
}
