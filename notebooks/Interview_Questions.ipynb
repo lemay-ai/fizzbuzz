{
 "cells": [
  {
   "cell_type": "markdown",
   "metadata": {
    "id": "9_7yNn6S5HPg"
   },
   "source": [
    "# Q1:\n",
    "You are developing a backend system for an application that processes videos uploaded by users to the server. On the server side, each instance of your program should predict what objects are in each frame, and return the result to another process within the application as a list of pairs of frame IDs and bounding box lications in JSON format. Each instance of your program has a 4GB RAM limit. The model that creates bounding boxes for objects exists in GPU RAM and so it does not consume general purpose RAM. Your program must return only one JSON representing the results for the whole video, not partial results. The incoming video file for each upload can be up to 100GB. Please describe how you would feed the data into your model, and feed the resulting predictions inot the JSON response."
   ]
  },
  {
   "cell_type": "markdown",
   "metadata": {
    "id": "WLaKyiHx5HPm"
   },
   "source": [
    "# Q2:\n",
    "You are multithreading a list of parallel tasks using a thread pool. What is t.join() used for? What is the purpose of using t.join() rather than skipping it. This program seems to work with or without the t.join(). Why do we still include it?"
   ]
  },
  {
   "cell_type": "code",
   "execution_count": null,
   "metadata": {
    "id": "FmoYy1Is5HPm",
    "outputId": "793b2cf9-d5f9-44a4-e609-623d4b731d19"
   },
   "outputs": [
    {
     "name": "stdout",
     "output_type": "stream",
     "text": [
      "done 1done 2\n",
      "done 0\n",
      "\n",
      "ALL WORK DONE\n",
      "TOTAL=3\n"
     ]
    }
   ],
   "source": [
    "from threading import Thread\n",
    "from queue import Queue\n",
    "import time\n",
    "\n",
    "def worker(args,q):\n",
    "    time.sleep(1)\n",
    "    print(\"done {}\".format(args))\n",
    "    q.put(1)\n",
    "    return\n",
    "\n",
    "workerList=[]\n",
    "for i in range(3):\n",
    "    q = Queue()\n",
    "    t = Thread(target=worker,args=(i,q))\n",
    "    t.start()\n",
    "    workerList.append([q,t])\n",
    "\n",
    "for i,workerPair in enumerate(workerList):\n",
    "    workerPair[1].join()\n",
    "    \n",
    "print(\"ALL WORK DONE\")\n",
    "\n",
    "total=0\n",
    "for i,workerPair in enumerate(workerList):\n",
    "    total+=workerPair[0].get()\n",
    "    \n",
    "print(\"TOTAL={}\".format(total))"
   ]
  },
  {
   "cell_type": "markdown",
   "metadata": {
    "id": "HCnG6c_b5HPo"
   },
   "source": [
    "# Q3\n",
    "What is faster, pd.concat([df1,df2,df3]) or a loop of df.append()? Explain your reasoning."
   ]
  },
  {
   "cell_type": "code",
   "execution_count": null,
   "metadata": {
    "id": "ZSpcBofW5HPp",
    "outputId": "f30902be-cdd8-4633-8b87-0d299c16ecd7"
   },
   "outputs": [
    {
     "name": "stdout",
     "output_type": "stream",
     "text": [
      "Wall time: 8.55 s\n"
     ]
    },
    {
     "data": {
      "text/html": [
       "<div>\n",
       "<style scoped>\n",
       "    .dataframe tbody tr th:only-of-type {\n",
       "        vertical-align: middle;\n",
       "    }\n",
       "\n",
       "    .dataframe tbody tr th {\n",
       "        vertical-align: top;\n",
       "    }\n",
       "\n",
       "    .dataframe thead th {\n",
       "        text-align: right;\n",
       "    }\n",
       "</style>\n",
       "<table border=\"1\" class=\"dataframe\">\n",
       "  <thead>\n",
       "    <tr style=\"text-align: right;\">\n",
       "      <th></th>\n",
       "      <th>age</th>\n",
       "      <th>gender</th>\n",
       "    </tr>\n",
       "  </thead>\n",
       "  <tbody>\n",
       "    <tr>\n",
       "      <th>0</th>\n",
       "      <td>110</td>\n",
       "      <td>M</td>\n",
       "    </tr>\n",
       "    <tr>\n",
       "      <th>0</th>\n",
       "      <td>75</td>\n",
       "      <td>M</td>\n",
       "    </tr>\n",
       "    <tr>\n",
       "      <th>0</th>\n",
       "      <td>116</td>\n",
       "      <td>F</td>\n",
       "    </tr>\n",
       "    <tr>\n",
       "      <th>0</th>\n",
       "      <td>9</td>\n",
       "      <td>M</td>\n",
       "    </tr>\n",
       "    <tr>\n",
       "      <th>0</th>\n",
       "      <td>4</td>\n",
       "      <td>F</td>\n",
       "    </tr>\n",
       "  </tbody>\n",
       "</table>\n",
       "</div>"
      ],
      "text/plain": [
       "   age gender\n",
       "0  110      M\n",
       "0   75      M\n",
       "0  116      F\n",
       "0    9      M\n",
       "0    4      F"
      ]
     },
     "execution_count": 16,
     "metadata": {},
     "output_type": "execute_result"
    }
   ],
   "source": [
    "%%time\n",
    "import random\n",
    "import pandas as pd\n",
    "numRows=10000\n",
    "\n",
    "df = pd.DataFrame(columns=[\"age\",\"gender\"])\n",
    "for _ in range(numRows):\n",
    "    df2=pd.DataFrame(data={'age': [random.randint(0,120)], 'gender': [random.choice([\"M\",\"F\"])]})\n",
    "    df=df.append(df2)\n",
    "df.head()"
   ]
  },
  {
   "cell_type": "code",
   "execution_count": null,
   "metadata": {
    "id": "9GtB4Xjz5HPp",
    "outputId": "d74e8379-7ad5-4876-ef6b-b50923cda592"
   },
   "outputs": [
    {
     "name": "stdout",
     "output_type": "stream",
     "text": [
      "Wall time: 3.52 s\n"
     ]
    },
    {
     "data": {
      "text/html": [
       "<div>\n",
       "<style scoped>\n",
       "    .dataframe tbody tr th:only-of-type {\n",
       "        vertical-align: middle;\n",
       "    }\n",
       "\n",
       "    .dataframe tbody tr th {\n",
       "        vertical-align: top;\n",
       "    }\n",
       "\n",
       "    .dataframe thead th {\n",
       "        text-align: right;\n",
       "    }\n",
       "</style>\n",
       "<table border=\"1\" class=\"dataframe\">\n",
       "  <thead>\n",
       "    <tr style=\"text-align: right;\">\n",
       "      <th></th>\n",
       "      <th>age</th>\n",
       "      <th>gender</th>\n",
       "    </tr>\n",
       "  </thead>\n",
       "  <tbody>\n",
       "    <tr>\n",
       "      <th>0</th>\n",
       "      <td>109</td>\n",
       "      <td>F</td>\n",
       "    </tr>\n",
       "    <tr>\n",
       "      <th>0</th>\n",
       "      <td>62</td>\n",
       "      <td>M</td>\n",
       "    </tr>\n",
       "    <tr>\n",
       "      <th>0</th>\n",
       "      <td>113</td>\n",
       "      <td>M</td>\n",
       "    </tr>\n",
       "    <tr>\n",
       "      <th>0</th>\n",
       "      <td>43</td>\n",
       "      <td>M</td>\n",
       "    </tr>\n",
       "    <tr>\n",
       "      <th>0</th>\n",
       "      <td>50</td>\n",
       "      <td>M</td>\n",
       "    </tr>\n",
       "  </tbody>\n",
       "</table>\n",
       "</div>"
      ],
      "text/plain": [
       "   age gender\n",
       "0  109      F\n",
       "0   62      M\n",
       "0  113      M\n",
       "0   43      M\n",
       "0   50      M"
      ]
     },
     "execution_count": 17,
     "metadata": {},
     "output_type": "execute_result"
    }
   ],
   "source": [
    "%%time\n",
    "import random\n",
    "numRows=10000\n",
    "resultArr = []\n",
    "for _ in range(numRows):\n",
    "    df2=pd.DataFrame(data={'age': [random.randint(0,120)], 'gender': [random.choice([\"M\",\"F\"])]})\n",
    "    resultArr.append(df2)\n",
    "\n",
    "df=pd.concat(resultArr)\n",
    "df.head()"
   ]
  },
  {
   "cell_type": "markdown",
   "metadata": {
    "id": "qBOWyFhs52T_"
   },
   "source": [
    "# Q4\n",
    "Compare the purposes of 1,2, and 3:\n",
    "\n",
    "1) Flask/Django/Others\n",
    "\n",
    "2) apache2/nginx\n",
    "\n",
    "3) gunicorn/other WSGI"
   ]
  },
  {
   "cell_type": "markdown",
   "metadata": {
    "id": "rbsx0zS-54aO"
   },
   "source": [
    "# Q5\n",
    "You are writing a program that scrapes text from a long list of websites. How would you apply parallelism to speed up the scraping task?"
   ]
  },
  {
   "cell_type": "markdown",
   "metadata": {
    "id": "qv9E9UDf56ie"
   },
   "source": [
    "# Q6\n",
    "You are writing a python3 program. When should you use Docker and when should you use VENV?"
   ]
  },
  {
   "cell_type": "code",
   "execution_count": null,
   "metadata": {
    "id": "oTVqypV7_WJl"
   },
   "outputs": [],
   "source": []
  }
 ],
 "metadata": {
  "colab": {
   "name": "Interview Questions.ipynb",
   "provenance": []
  },
  "kernelspec": {
   "display_name": "Python 3",
   "language": "python",
   "name": "python3"
  },
  "language_info": {
   "codemirror_mode": {
    "name": "ipython",
    "version": 3
   },
   "file_extension": ".py",
   "mimetype": "text/x-python",
   "name": "python",
   "nbconvert_exporter": "python",
   "pygments_lexer": "ipython3",
   "version": "3.8.5"
  }
 },
 "nbformat": 4,
 "nbformat_minor": 1
}
